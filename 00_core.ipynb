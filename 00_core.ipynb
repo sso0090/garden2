{
 "cells": [
  {
   "cell_type": "code",
   "execution_count": 1,
   "metadata": {},
   "outputs": [],
   "source": [
    "# default_exp core"
   ]
  },
  {
   "cell_type": "markdown",
   "metadata": {},
   "source": [
    "# module name here\n",
    "\n",
    "> API details."
   ]
  },
  {
   "cell_type": "code",
   "execution_count": 4,
   "metadata": {},
   "outputs": [],
   "source": [
    "#hide\n",
    "from nbdev.showdoc import *"
   ]
  },
  {
   "cell_type": "code",
   "execution_count": 8,
   "metadata": {},
   "outputs": [
    {
     "name": "stdout",
     "output_type": "stream",
     "text": [
      "Converted 00_core.ipynb.\n",
      "Converted 01_utils.ipynb.\n",
      "Converted 02_data.ipynb.\n",
      "Converted 03_model.ipynb.\n",
      "Converted index.ipynb.\n",
      "converting: D:\\codes\\my_dev\\garden2\\00_core.ipynb\n",
      "converting: D:\\codes\\my_dev\\garden2\\01_utils.ipynb\n",
      "converting: D:\\codes\\my_dev\\garden2\\02_data.ipynb\n",
      "converting: D:\\codes\\my_dev\\garden2\\03_model.ipynb\n",
      "Warning: Some of your Notebooks use the same title (['module name here', 'Title', 'Title', 'Title']).\n",
      "converting D:\\codes\\my_dev\\garden2\\index.ipynb to README.md\n"
     ]
    }
   ],
   "source": [
    "from nbdev.export import *\n",
    "from nbdev.imports import *\n",
    "from nbdev.export2html import *\n",
    "from nbdev.cli import *\n",
    "notebook2script()\n",
    "nbdev_build_docs(n_workers=0)"
   ]
  },
  {
   "cell_type": "code",
   "execution_count": null,
   "metadata": {},
   "outputs": [],
   "source": []
  }
 ],
 "metadata": {
  "kernelspec": {
   "display_name": "Python 3",
   "language": "python",
   "name": "python3"
  },
  "language_info": {
   "codemirror_mode": {
    "name": "ipython",
    "version": 3
   },
   "file_extension": ".py",
   "mimetype": "text/x-python",
   "name": "python",
   "nbconvert_exporter": "python",
   "pygments_lexer": "ipython3",
   "version": "3.7.6"
  }
 },
 "nbformat": 4,
 "nbformat_minor": 2
}
