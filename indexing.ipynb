{
  "cells": [
    {
      "cell_type": "code",
      "source": [
        "from garden2._nbdev import index"
      ],
      "outputs": [],
      "execution_count": 1,
      "metadata": {
        "collapsed": false,
        "jupyter": {
          "source_hidden": false,
          "outputs_hidden": false
        },
        "nteract": {
          "transient": {
            "deleting": false
          }
        },
        "execution": {
          "shell.execute_reply": "2020-03-24T11:22:20.143Z",
          "iopub.status.busy": "2020-03-24T11:22:20.135Z",
          "iopub.execute_input": "2020-03-24T11:22:20.137Z",
          "iopub.status.idle": "2020-03-24T11:22:20.141Z"
        }
      }
    },
    {
      "cell_type": "code",
      "source": [
        "for key, value in index.items():    # for name, age in dictionary.iteritems():  (for Python 2.x)\n",
        "    if value == \"01_utils.ipynb\":\n",
        "        print(key)"
      ],
      "outputs": [
        {
          "output_type": "stream",
          "name": "stdout",
          "text": [
            "root\n",
            "unpack_int64_list\n",
            "unpack_bytes_list\n",
            "unpack_sample\n",
            "Reader\n",
            "compression_code\n"
          ]
        }
      ],
      "execution_count": 4,
      "metadata": {
        "collapsed": false,
        "jupyter": {
          "source_hidden": false,
          "outputs_hidden": false
        },
        "nteract": {
          "transient": {
            "deleting": false
          }
        },
        "execution": {
          "iopub.status.busy": "2020-03-24T11:24:13.633Z",
          "iopub.execute_input": "2020-03-24T11:24:13.637Z",
          "iopub.status.idle": "2020-03-24T11:24:13.641Z",
          "shell.execute_reply": "2020-03-24T11:24:13.644Z"
        }
      }
    },
    {
      "cell_type": "code",
      "source": [],
      "outputs": [],
      "execution_count": null,
      "metadata": {
        "collapsed": false,
        "jupyter": {
          "source_hidden": false,
          "outputs_hidden": false
        },
        "nteract": {
          "transient": {
            "deleting": false
          }
        }
      }
    }
  ],
  "metadata": {
    "kernel_info": {
      "name": "python3"
    },
    "language_info": {
      "name": "python",
      "version": "3.7.6",
      "mimetype": "text/x-python",
      "codemirror_mode": {
        "name": "ipython",
        "version": 3
      },
      "pygments_lexer": "ipython3",
      "nbconvert_exporter": "python",
      "file_extension": ".py"
    },
    "kernelspec": {
      "argv": [
        "d:/conda3\\python.exe",
        "-m",
        "ipykernel_launcher",
        "-f",
        "{connection_file}"
      ],
      "display_name": "Python 3",
      "language": "python",
      "name": "python3"
    },
    "nteract": {
      "version": "0.22.0"
    }
  },
  "nbformat": 4,
  "nbformat_minor": 0
}