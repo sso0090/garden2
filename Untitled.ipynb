{
  "cells": [
    {
      "cell_type": "code",
      "source": [
        "from garden2._nbdev import index"
      ],
      "outputs": [],
      "execution_count": 1,
      "metadata": {
        "collapsed": false,
        "jupyter": {
          "source_hidden": false,
          "outputs_hidden": false
        },
        "nteract": {
          "transient": {
            "deleting": false
          }
        },
        "execution": {
          "shell.execute_reply": "2020-03-24T11:22:20.143Z",
          "iopub.status.busy": "2020-03-24T11:22:20.135Z",
          "iopub.execute_input": "2020-03-24T11:22:20.137Z",
          "iopub.status.idle": "2020-03-24T11:22:20.141Z"
        }
      }
    },
    {
      "cell_type": "code",
      "source": [
        "for key, value in index.items():    # for name, age in dictionary.iteritems():  (for Python 2.x)\n",
        "    if value == \"01_utils.ipynb\":\n",
        "        print(key)"
      ],
      "outputs": [
        {
          "output_type": "stream",
          "name": "stdout",
          "text": [
            "root\n",
            "unpack_int64_list\n",
            "unpack_bytes_list\n",
            "unpack_sample\n",
            "Reader\n",
            "compression_code\n"
          ]
        }
      ],
      "execution_count": 4,
      "metadata": {
        "collapsed": false,
        "jupyter": {
          "source_hidden": false,
          "outputs_hidden": false
        },
        "nteract": {
          "transient": {
            "deleting": false
          }
        },
        "execution": {
          "iopub.status.busy": "2020-03-24T11:24:13.633Z",
          "iopub.execute_input": "2020-03-24T11:24:13.637Z",
          "iopub.status.idle": "2020-03-24T11:24:13.641Z",
          "shell.execute_reply": "2020-03-24T11:24:13.644Z"
        }
      }
    },
    {
      "cell_type": "code",
      "source": [
        "import numpy as np"
      ],
      "outputs": [],
      "execution_count": 20,
      "metadata": {
        "collapsed": false,
        "jupyter": {
          "source_hidden": false,
          "outputs_hidden": false
        },
        "nteract": {
          "transient": {
            "deleting": false
          }
        },
        "execution": {
          "iopub.status.busy": "2020-03-24T11:59:42.323Z",
          "iopub.execute_input": "2020-03-24T11:59:42.327Z",
          "shell.execute_reply": "2020-03-24T11:59:42.408Z",
          "iopub.status.idle": "2020-03-24T11:59:42.413Z"
        }
      }
    },
    {
      "cell_type": "code",
      "source": [
        "files = list(np.unique(list(index.values())))"
      ],
      "outputs": [],
      "execution_count": 24,
      "metadata": {
        "collapsed": false,
        "jupyter": {
          "source_hidden": false,
          "outputs_hidden": false
        },
        "nteract": {
          "transient": {
            "deleting": false
          }
        },
        "execution": {
          "iopub.status.busy": "2020-03-24T12:00:36.866Z",
          "iopub.execute_input": "2020-03-24T12:00:36.868Z",
          "iopub.status.idle": "2020-03-24T12:00:36.872Z",
          "shell.execute_reply": "2020-03-24T12:00:36.874Z"
        }
      }
    },
    {
      "cell_type": "code",
      "source": [
        "childs =[]\n",
        "for i in range (len(files)):\n",
        "    childs.append( widgets.Text())"
      ],
      "outputs": [],
      "execution_count": 26,
      "metadata": {
        "collapsed": false,
        "jupyter": {
          "source_hidden": false,
          "outputs_hidden": false
        },
        "nteract": {
          "transient": {
            "deleting": false
          }
        },
        "execution": {
          "iopub.status.busy": "2020-03-24T12:02:38.728Z",
          "iopub.execute_input": "2020-03-24T12:02:38.732Z",
          "iopub.status.idle": "2020-03-24T12:02:38.754Z",
          "shell.execute_reply": "2020-03-24T12:02:38.761Z"
        }
      }
    },
    {
      "cell_type": "code",
      "source": [
        "import ipywidgets as widgets"
      ],
      "outputs": [],
      "execution_count": 8,
      "metadata": {
        "collapsed": false,
        "jupyter": {
          "source_hidden": false,
          "outputs_hidden": false
        },
        "nteract": {
          "transient": {
            "deleting": false
          }
        },
        "execution": {
          "iopub.status.busy": "2020-03-24T11:52:46.491Z",
          "iopub.execute_input": "2020-03-24T11:52:46.494Z",
          "iopub.status.idle": "2020-03-24T11:52:46.519Z",
          "shell.execute_reply": "2020-03-24T11:52:46.515Z"
        }
      }
    },
    {
      "cell_type": "code",
      "source": [],
      "outputs": [],
      "execution_count": null,
      "metadata": {
        "collapsed": false,
        "jupyter": {
          "source_hidden": false,
          "outputs_hidden": false
        },
        "nteract": {
          "transient": {
            "deleting": false
          }
        }
      }
    },
    {
      "cell_type": "code",
      "source": [
        "\n",
        "accordion = widgets.Accordion(children=childs)\n",
        "for i in range (len(files)):\n",
        "    accordion.set_title(i, files[i])\n",
        "\n",
        "accordion"
      ],
      "outputs": [
        {
          "output_type": "display_data",
          "data": {
            "text/plain": [
              "Accordion(children=(Text(value=''), Text(value=''), Text(value=''), Text(value='')), _titles={'0': '01_utils.i…"
            ],
            "application/vnd.jupyter.widget-view+json": {
              "version_major": 2,
              "version_minor": 0,
              "model_id": "0768c0eb2d8942dc8c4088f3171e00ba"
            }
          },
          "metadata": {}
        }
      ],
      "execution_count": 28,
      "metadata": {
        "collapsed": false,
        "jupyter": {
          "source_hidden": false,
          "outputs_hidden": false
        },
        "nteract": {
          "transient": {
            "deleting": false
          }
        },
        "execution": {
          "iopub.status.busy": "2020-03-24T12:03:59.699Z",
          "iopub.execute_input": "2020-03-24T12:03:59.702Z",
          "iopub.status.idle": "2020-03-24T12:03:59.713Z",
          "shell.execute_reply": "2020-03-24T12:03:59.723Z"
        }
      }
    },
    {
      "cell_type": "code",
      "source": [
        "tab_nest = widgets.Tab()\n",
        "tab_nest.children = [accordion, accordion]\n",
        "tab_nest.titles = ('An accordion', 'Copy of the accordion')\n",
        "tab_nest"
      ],
      "outputs": [
        {
          "output_type": "error",
          "ename": "NameError",
          "evalue": "name 'accordion' is not defined",
          "traceback": [
            "\u001b[1;31m---------------------------------------------------------------------------\u001b[0m",
            "\u001b[1;31mNameError\u001b[0m                                 Traceback (most recent call last)",
            "\u001b[1;32m<ipython-input-13-571dc034f1f7>\u001b[0m in \u001b[0;36m<module>\u001b[1;34m\u001b[0m\n\u001b[0;32m      1\u001b[0m \u001b[0mtab_nest\u001b[0m \u001b[1;33m=\u001b[0m \u001b[0mwidgets\u001b[0m\u001b[1;33m.\u001b[0m\u001b[0mTab\u001b[0m\u001b[1;33m(\u001b[0m\u001b[1;33m)\u001b[0m\u001b[1;33m\u001b[0m\u001b[1;33m\u001b[0m\u001b[0m\n\u001b[1;32m----> 2\u001b[1;33m \u001b[0mtab_nest\u001b[0m\u001b[1;33m.\u001b[0m\u001b[0mchildren\u001b[0m \u001b[1;33m=\u001b[0m \u001b[1;33m[\u001b[0m\u001b[0maccordion\u001b[0m\u001b[1;33m,\u001b[0m \u001b[0maccordion\u001b[0m\u001b[1;33m]\u001b[0m\u001b[1;33m\u001b[0m\u001b[1;33m\u001b[0m\u001b[0m\n\u001b[0m\u001b[0;32m      3\u001b[0m \u001b[0mtab_nest\u001b[0m\u001b[1;33m.\u001b[0m\u001b[0mtitles\u001b[0m \u001b[1;33m=\u001b[0m \u001b[1;33m(\u001b[0m\u001b[1;34m'An accordion'\u001b[0m\u001b[1;33m,\u001b[0m \u001b[1;34m'Copy of the accordion'\u001b[0m\u001b[1;33m)\u001b[0m\u001b[1;33m\u001b[0m\u001b[1;33m\u001b[0m\u001b[0m\n\u001b[0;32m      4\u001b[0m \u001b[0mtab_nest\u001b[0m\u001b[1;33m\u001b[0m\u001b[1;33m\u001b[0m\u001b[0m\n",
            "\u001b[1;31mNameError\u001b[0m: name 'accordion' is not defined"
          ]
        }
      ],
      "execution_count": 13,
      "metadata": {
        "collapsed": false,
        "jupyter": {
          "source_hidden": false,
          "outputs_hidden": false
        },
        "nteract": {
          "transient": {
            "deleting": false
          }
        },
        "execution": {
          "iopub.status.busy": "2020-03-24T11:53:31.660Z",
          "iopub.execute_input": "2020-03-24T11:53:31.663Z",
          "iopub.status.idle": "2020-03-24T11:53:31.671Z",
          "shell.execute_reply": "2020-03-24T11:53:31.673Z"
        }
      }
    },
    {
      "cell_type": "code",
      "source": [],
      "outputs": [],
      "execution_count": null,
      "metadata": {
        "collapsed": false,
        "jupyter": {
          "source_hidden": false,
          "outputs_hidden": false
        },
        "nteract": {
          "transient": {
            "deleting": false
          }
        }
      }
    }
  ],
  "metadata": {
    "kernel_info": {
      "name": "python3"
    },
    "language_info": {
      "name": "python",
      "version": "3.7.6",
      "mimetype": "text/x-python",
      "codemirror_mode": {
        "name": "ipython",
        "version": 3
      },
      "pygments_lexer": "ipython3",
      "nbconvert_exporter": "python",
      "file_extension": ".py"
    },
    "kernelspec": {
      "argv": [
        "d:/conda3\\python.exe",
        "-m",
        "ipykernel_launcher",
        "-f",
        "{connection_file}"
      ],
      "display_name": "Python 3",
      "language": "python",
      "name": "python3"
    },
    "nteract": {
      "version": "0.22.0"
    }
  },
  "nbformat": 4,
  "nbformat_minor": 0
}