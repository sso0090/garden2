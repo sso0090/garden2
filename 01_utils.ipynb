{
 "cells": [
  {
   "cell_type": "markdown",
   "metadata": {},
   "source": [
    "## Exploring the data"
   ]
  },
  {
   "cell_type": "markdown",
   "metadata": {},
   "source": [
    "So let's learn how we set up the data. "
   ]
  },
  {
   "cell_type": "code",
   "execution_count": 1,
   "metadata": {},
   "outputs": [],
   "source": [
    "# default_exp utils"
   ]
  },
  {
   "cell_type": "code",
   "execution_count": 2,
   "metadata": {},
   "outputs": [],
   "source": [
    "#hide\n",
    "import os,sys"
   ]
  },
  {
   "cell_type": "code",
   "execution_count": 3,
   "metadata": {},
   "outputs": [],
   "source": [
    "#export\n",
    "root = \"D:/data_sets/24_garden\""
   ]
  },
  {
   "cell_type": "code",
   "execution_count": 4,
   "metadata": {
    "execution": {
     "iopub.execute_input": "2020-03-19T13:33:52.497Z",
     "iopub.status.busy": "2020-03-19T13:33:52.493Z",
     "iopub.status.idle": "2020-03-19T13:33:52.505Z",
     "shell.execute_reply": "2020-03-19T13:33:52.510Z"
    }
   },
   "outputs": [],
   "source": [
    "#export\n",
    "import tensorflow as tf"
   ]
  },
  {
   "cell_type": "markdown",
   "metadata": {},
   "source": [
    "In order to parse the data, we need to \"unpack\" each sample to bring it into a `Dataset`. `tfrecord` has two special functions we can use, `unpack_int_64_list` and `unpack_bytes_list` (our classes are integers and our images are bytes)"
   ]
  },
  {
   "cell_type": "code",
   "execution_count": 5,
   "metadata": {
    "execution": {
     "iopub.execute_input": "2020-03-19T13:33:54.789Z",
     "iopub.status.busy": "2020-03-19T13:33:54.783Z",
     "iopub.status.idle": "2020-03-19T13:33:54.796Z",
     "shell.execute_reply": "2020-03-19T13:33:54.801Z"
    },
    "jupyter": {
     "outputs_hidden": false,
     "source_hidden": false
    },
    "nteract": {
     "transient": {
      "deleting": false
     }
    }
   },
   "outputs": [],
   "source": [
    "#export\n",
    "def unpack_int64_list(feature):\n",
    "    return feature.int64_list.value"
   ]
  },
  {
   "cell_type": "code",
   "execution_count": 6,
   "metadata": {
    "execution": {
     "iopub.execute_input": "2020-03-19T13:37:58.766Z",
     "iopub.status.busy": "2020-03-19T13:37:58.760Z",
     "iopub.status.idle": "2020-03-19T13:37:58.775Z",
     "shell.execute_reply": "2020-03-19T13:37:58.780Z"
    },
    "jupyter": {
     "outputs_hidden": false,
     "source_hidden": false
    },
    "nteract": {
     "transient": {
      "deleting": false
     }
    }
   },
   "outputs": [],
   "source": [
    "#export\n",
    "def unpack_bytes_list(feature):\n",
    "    return feature.bytes_list.value"
   ]
  },
  {
   "cell_type": "code",
   "execution_count": 7,
   "metadata": {
    "execution": {
     "iopub.execute_input": "2020-03-19T13:33:57.341Z",
     "iopub.status.busy": "2020-03-19T13:33:57.335Z",
     "iopub.status.idle": "2020-03-19T13:33:57.347Z",
     "shell.execute_reply": "2020-03-19T13:33:57.353Z"
    }
   },
   "outputs": [],
   "source": [
    "#export\n",
    "def unpack_sample(feats):\n",
    "    return {\n",
    "        'class' : unpack_int64_list(feats['class']),\n",
    "        'image' : unpack_bytes_list(feats['image'])\n",
    "    }"
   ]
  },
  {
   "cell_type": "code",
   "execution_count": 8,
   "metadata": {
    "execution": {
     "iopub.execute_input": "2020-03-19T13:37:04.996Z",
     "iopub.status.busy": "2020-03-19T13:37:04.988Z",
     "iopub.status.idle": "2020-03-19T13:37:05.004Z",
     "shell.execute_reply": "2020-03-19T13:37:05.010Z"
    },
    "jupyter": {
     "outputs_hidden": false,
     "source_hidden": false
    },
    "nteract": {
     "transient": {
      "deleting": false
     }
    }
   },
   "outputs": [],
   "source": [
    "#export\n",
    "class Reader:\n",
    "    def __init__(self, fname, unpack_sample, compression=None):\n",
    "        self._engine = iter(tf.compat.v1.io.tf_record_iterator(\n",
    "            fname, compression_code(compression)))\n",
    "        self._unpack_sample = unpack_sample\n",
    "\n",
    "    def __enter__(self):\n",
    "        return self\n",
    "\n",
    "    def __exit__(self, exception_type, exception_value, traceback):\n",
    "        pass\n",
    "\n",
    "    def __iter__(self):\n",
    "        return self\n",
    "\n",
    "    def __next__(self):\n",
    "        buffer = next(self._engine)\n",
    "        example = tf.train.Example()\n",
    "        example.ParseFromString(buffer)\n",
    "        return self._unpack_sample(example.features.feature)\n",
    "\n",
    "    def read_sample(self):\n",
    "        try:\n",
    "            return __next__(self)\n",
    "        except StopIteration:\n",
    "            return None"
   ]
  },
  {
   "cell_type": "code",
   "execution_count": 9,
   "metadata": {
    "execution": {
     "iopub.execute_input": "2020-03-19T13:37:23.540Z",
     "iopub.status.busy": "2020-03-19T13:37:23.533Z",
     "iopub.status.idle": "2020-03-19T13:37:23.551Z",
     "shell.execute_reply": "2020-03-19T13:37:23.557Z"
    },
    "jupyter": {
     "outputs_hidden": false,
     "source_hidden": false
    },
    "nteract": {
     "transient": {
      "deleting": false
     }
    }
   },
   "outputs": [],
   "source": [
    "#export\n",
    "def compression_code(compression):\n",
    "    if compression is None:\n",
    "        return None\n",
    "    code = _tf_compression_revmap.get(compression)\n",
    "    if code is None:\n",
    "        raise ValueError(\n",
    "            'Unknown or unsupported compression type: ' + compression)"
   ]
  },
  {
   "cell_type": "code",
   "execution_count": null,
   "metadata": {},
   "outputs": [],
   "source": []
  },
  {
   "cell_type": "code",
   "execution_count": null,
   "metadata": {},
   "outputs": [],
   "source": []
  },
  {
   "cell_type": "code",
   "execution_count": null,
   "metadata": {},
   "outputs": [],
   "source": []
  },
  {
   "cell_type": "code",
   "execution_count": null,
   "metadata": {},
   "outputs": [],
   "source": []
  },
  {
   "cell_type": "code",
   "execution_count": null,
   "metadata": {},
   "outputs": [],
   "source": []
  },
  {
   "cell_type": "code",
   "execution_count": null,
   "metadata": {},
   "outputs": [],
   "source": []
  },
  {
   "cell_type": "code",
   "execution_count": null,
   "metadata": {},
   "outputs": [],
   "source": []
  }
 ],
 "metadata": {
  "kernelspec": {
   "display_name": "Python 3",
   "language": "python",
   "name": "python3"
  },
  "language_info": {
   "codemirror_mode": {
    "name": "ipython",
    "version": 3
   },
   "file_extension": ".py",
   "mimetype": "text/x-python",
   "name": "python",
   "nbconvert_exporter": "python",
   "pygments_lexer": "ipython3",
   "version": "3.7.6"
  },
  "nteract": {
   "version": "0.22.0"
  }
 },
 "nbformat": 4,
 "nbformat_minor": 1
}
